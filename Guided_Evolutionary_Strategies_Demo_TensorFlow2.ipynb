{
 "cells": [
  {
   "cell_type": "markdown",
   "metadata": {},
   "source": [
    "##### Copyright 2020 Google LLC.\n",
    "\n",
    "Licensed under the Apache License, Version 2.0 (the \"License\");"
   ]
  },
  {
   "cell_type": "code",
   "execution_count": 1,
   "metadata": {},
   "outputs": [],
   "source": [
    "# Licensed under the Apache License, Version 2.0 (the \"License\");\n",
    "# you may not use this file except in compliance with the License.\n",
    "# You may obtain a copy of the License at\n",
    "#\n",
    "# https://www.apache.org/licenses/LICENSE-2.0\n",
    "#\n",
    "# Unless required by applicable law or agreed to in writing, software\n",
    "# distributed under the License is distributed on an \"AS IS\" BASIS,\n",
    "# WITHOUT WARRANTIES OR CONDITIONS OF ANY KIND, either express or implied.\n",
    "# See the License for the specific language governing permissions and\n",
    "# limitations under the License."
   ]
  },
  {
   "cell_type": "markdown",
   "metadata": {},
   "source": [
    "## Guided Evolutionary Strategies Demo (using TensorFlow 2)\n",
    "\n",
    "Date: 06/08/2020\n",
    "\n",
    "This is a self-contained notebook that reproduces the toy example in Fig. 1 of the [Guided ES](https://arxiv.org/abs/1806.10230) paper."
   ]
  },
  {
   "cell_type": "code",
   "execution_count": 2,
   "metadata": {},
   "outputs": [
    {
     "name": "stdout",
     "output_type": "stream",
     "text": [
      "TensorFlow version: 2.2.0\n"
     ]
    }
   ],
   "source": [
    "import numpy as np\n",
    "import matplotlib.pyplot as plt\n",
    "\n",
    "import tensorflow as tf\n",
    "\n",
    "print(f'TensorFlow version: {tf.__version__}')"
   ]
  },
  {
   "cell_type": "markdown",
   "metadata": {},
   "source": [
    "### Problem setup\n",
    "\n",
    "We test the algorithms on a toy problem where we explicitly add bias and variance to the gradient."
   ]
  },
  {
   "cell_type": "code",
   "execution_count": 3,
   "metadata": {},
   "outputs": [],
   "source": [
    "# Generate problem data.\n",
    "rs = np.random.RandomState(seed=0)\n",
    "m = 2000  # Number of data points.\n",
    "n = 1000  # Number of variables.\n",
    "\n",
    "A = rs.randn(m, n)\n",
    "b = rs.randn(m, 1)\n",
    "\n",
    "xstar = np.linalg.lstsq(A, b, rcond=None)[0]\n",
    "f_star = (0.5/float(m)) * np.linalg.norm(np.dot(A, xstar) - b) ** 2\n",
    "\n",
    "A = tf.convert_to_tensor(A, dtype=tf.float32)\n",
    "b = tf.convert_to_tensor(b, dtype=tf.float32)\n",
    "\n",
    "# This is a bias vector that will be added to the gradient\n",
    "grad_bias = 1.0 * tf.nn.l2_normalize(tf.convert_to_tensor(rs.randn(n, 1), dtype=tf.float32))\n",
    "\n",
    "@tf.function\n",
    "def loss_and_grad_fun(x):\n",
    "    residual = tf.matmul(A, x) - b\n",
    "    loss = 0.5 * tf.norm(residual) ** 2 / float(m)\n",
    "    \n",
    "    # The 'gradient' that we observe is a noisy, biased version of the true gradient.\n",
    "    # This is meant to mimic scenarios where we only have access to biased gradients.\n",
    "    err = tf.matmul(tf.transpose(A), residual) / float(m)\n",
    "    grad_noise = 1.5 * tf.nn.l2_normalize(tf.random.normal(shape=(n, 1)))\n",
    "    gradient = err + (grad_bias + grad_noise) * tf.norm(err)\n",
    "    \n",
    "    return loss, gradient"
   ]
  },
  {
   "cell_type": "markdown",
   "metadata": {},
   "source": [
    "### Algorithm 1: Gradient Descent\n",
    "\n",
    "Our first algorithm is gradient descent, applied directly to the biased gradients."
   ]
  },
  {
   "cell_type": "code",
   "execution_count": 4,
   "metadata": {},
   "outputs": [],
   "source": [
    "opt = tf.keras.optimizers.SGD(5e-3)\n",
    "\n",
    "@tf.function\n",
    "def step_fun(x):\n",
    "    loss, gradient = loss_and_grad_fun(x)\n",
    "    opt.apply_gradients([(gradient, x)])\n",
    "    return loss"
   ]
  },
  {
   "cell_type": "code",
   "execution_count": 5,
   "metadata": {},
   "outputs": [
    {
     "name": "stdout",
     "output_type": "stream",
     "text": [
      "CPU times: user 15 s, sys: 989 ms, total: 16 s\n",
      "Wall time: 15.7 s\n"
     ]
    }
   ],
   "source": [
    "%%time\n",
    "\n",
    "x = tf.Variable(tf.zeros((n, 1)), dtype=tf.float32)\n",
    "\n",
    "fobj = []\n",
    "for _ in range(10000):\n",
    "    fobj.append(step_fun(x))\n",
    "    \n",
    "# Store training curve for plotting later.\n",
    "f_gd = tf.stack(fobj).numpy().copy()"
   ]
  },
  {
   "cell_type": "markdown",
   "metadata": {},
   "source": [
    "### Algorithm 2: Vanilla Evolutionary Strategies (Vanilla ES)\n",
    "\n",
    "Our next algorithm is vanilla (standard) evolutionary strategies. This is a zeroth-order optimization algorithm, which means that it only uses the function evaluation (and ignores the biased gradients)."
   ]
  },
  {
   "cell_type": "code",
   "execution_count": 6,
   "metadata": {},
   "outputs": [],
   "source": [
    "# Hyperparameters for Vanilla ES\n",
    "sigma = 0.1\n",
    "beta = 1.0\n",
    "learning_rate = 0.2\n",
    "\n",
    "# Defines the distribution for sampling parameter perturbations.\n",
    "scale = sigma / np.sqrt(n)\n",
    "def sample():\n",
    "    return scale * tf.random.normal(shape=(n, 1), dtype=tf.float32)\n",
    "\n",
    "opt = tf.keras.optimizers.SGD(learning_rate)\n",
    "\n",
    "@tf.function\n",
    "def step_fun(x):\n",
    "    epsilon = sample()\n",
    "    \n",
    "    # We utilize antithetic (positive and negative) samples.\n",
    "    f_pos, _ = loss_and_grad_fun(x + epsilon)\n",
    "    f_neg, _ = loss_and_grad_fun(x - epsilon)\n",
    "    \n",
    "    # This update is a stochastic finite difference estimate of the true gradient.\n",
    "    update = (beta / (2 * sigma ** 2)) * (f_pos - f_neg) * epsilon\n",
    "    opt.apply_gradients([(update, x)])\n",
    "    \n",
    "    return loss_and_grad_fun(x)[0]"
   ]
  },
  {
   "cell_type": "code",
   "execution_count": 7,
   "metadata": {},
   "outputs": [
    {
     "name": "stdout",
     "output_type": "stream",
     "text": [
      "CPU times: user 19.9 s, sys: 1.11 s, total: 21 s\n",
      "Wall time: 19.6 s\n"
     ]
    }
   ],
   "source": [
    "%%time\n",
    "\n",
    "x = tf.Variable(tf.zeros((n, 1)), dtype=tf.float32)\n",
    "\n",
    "# Run the optmizer.\n",
    "fobj = []\n",
    "for _ in range(10000):\n",
    "    fobj.append(step_fun(x))\n",
    "\n",
    "# Store training curve for plotting later.\n",
    "f_ves = tf.stack(fobj).numpy().copy()"
   ]
  },
  {
   "cell_type": "markdown",
   "metadata": {},
   "source": [
    "### Algorithm 3: Guided Evolutionary Strategies (Guided ES)\n",
    "\n",
    "Guided ES is our proposed method. It uses a diagonal plus low-rank covariance matrix for drawing perturbations, where the low-rank subspace is spanned by the available gradient information.\n",
    "\n",
    "This allows it to incorporate the biased gradient information, while still minimizing the true loss function."
   ]
  },
  {
   "cell_type": "code",
   "execution_count": 8,
   "metadata": {},
   "outputs": [],
   "source": [
    "# Hyperparameters for Guided ES\n",
    "sigma = 0.1\n",
    "alpha = 0.5\n",
    "beta = 1.0\n",
    "k = 1        # Defines the dimensionality of the low-rank subspace.\n",
    "\n",
    "# Defines parameters of the distribution for sampling perturbations.\n",
    "a = sigma * np.sqrt(alpha / float(n))\n",
    "c = sigma * np.sqrt((1. - alpha) / float(k))\n",
    "\n",
    "def sample(gradient_subspace):\n",
    "    epsilon_full = tf.random.normal(shape=(n, 1), dtype=tf.float32)\n",
    "    epsilon_subspace = tf.random.normal(shape=(k, 1), dtype=tf.float32)\n",
    "    \n",
    "    Q, _ = tf.linalg.qr(gradient_subspace)\n",
    "    epsilon = a * epsilon_full + c * tf.matmul(Q, epsilon_subspace)\n",
    "    \n",
    "    return epsilon\n",
    "\n",
    "opt = tf.keras.optimizers.SGD(0.2)\n",
    "\n",
    "@tf.function\n",
    "def step_fun(x):\n",
    "    \n",
    "    # We pass the gradient to our sampling function.\n",
    "    loss, gradient = loss_and_grad_fun(x)\n",
    "    epsilon = sample(gradient)\n",
    "    \n",
    "    # We utilize antithetic (positive and negative) samples.\n",
    "    f_pos, _ = loss_and_grad_fun(x + epsilon)\n",
    "    f_neg, _ = loss_and_grad_fun(x - epsilon)\n",
    "    \n",
    "    # This update is a stochastic finite difference estimate of the true gradient.\n",
    "    update = (beta / (2 * sigma ** 2)) * (f_pos - f_neg) * epsilon\n",
    "    opt.apply_gradients([(update, x)])\n",
    "\n",
    "    return loss_and_grad_fun(x)[0]"
   ]
  },
  {
   "cell_type": "code",
   "execution_count": 9,
   "metadata": {},
   "outputs": [
    {
     "name": "stdout",
     "output_type": "stream",
     "text": [
      "CPU times: user 32.1 s, sys: 1.58 s, total: 33.7 s\n",
      "Wall time: 28.4 s\n"
     ]
    }
   ],
   "source": [
    "%%time\n",
    "\n",
    "x = tf.Variable(tf.zeros((n, 1)), dtype=tf.float32)\n",
    "\n",
    "# Run the optmizer.\n",
    "fobj = []\n",
    "for _ in range(10000):\n",
    "    fobj.append(step_fun(x))\n",
    "\n",
    "# Store training curve for plotting later.\n",
    "f_ges = tf.stack(fobj).numpy().copy()"
   ]
  },
  {
   "cell_type": "code",
   "execution_count": 10,
   "metadata": {},
   "outputs": [
    {
     "data": {
      "image/png": "[encoded data removed]",
      "text/plain": [
       "<Figure size 576x432 with 1 Axes>"
      ]
     },
     "metadata": {
      "needs_background": "light"
     },
     "output_type": "display_data"
    }
   ],
   "source": [
    "COLORS = {'ges': '#7570b3', 'ves': '#1b9e77', 'sgdm': '#d95f02'}\n",
    "plt.figure(figsize=(8, 6))\n",
    "plt.plot(f_ves - f_star, color=COLORS['ves'], label='Vanilla ES')\n",
    "plt.plot(f_gd - f_star, color=COLORS['sgdm'], label='Grad. Descent')\n",
    "plt.plot(f_ges - f_star, color=COLORS['ges'], label='Guided ES')\n",
    "plt.legend(fontsize=16, loc=0)\n",
    "plt.xlabel('Iteration', fontsize=16)\n",
    "plt.ylabel('Loss', fontsize=16)\n",
    "plt.title('Demo of Guided Evolutionary Strategies', fontsize=16);"
   ]
  },
  {
   "cell_type": "code",
   "execution_count": null,
   "metadata": {},
   "outputs": [],
   "source": []
  }
 ],
 "metadata": {
  "kernelspec": {
   "display_name": "Python 3",
   "language": "python",
   "name": "python3"
  },
  "language_info": {
   "codemirror_mode": {
    "name": "ipython",
    "version": 3
   },
   "file_extension": ".py",
   "mimetype": "text/x-python",
   "name": "python",
   "nbconvert_exporter": "python",
   "pygments_lexer": "ipython3",
   "version": "3.7.7"
  }
 },
 "nbformat": 4,
 "nbformat_minor": 4
}
