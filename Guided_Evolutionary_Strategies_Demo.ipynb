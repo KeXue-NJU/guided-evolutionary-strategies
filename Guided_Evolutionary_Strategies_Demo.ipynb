{
 "cells": [
  {
   "cell_type": "markdown",
   "metadata": {
    "colab_type": "text",
    "id": "_NliWKN6rBM2"
   },
   "source": [
    "##### Copyright 2018 Google LLC.\n",
    "\n",
    "Licensed under the Apache License, Version 2.0 (the \"License\");"
   ]
  },
  {
   "cell_type": "code",
   "execution_count": 1,
   "metadata": {
    "cellView": "both",
    "colab": {
     "autoexec": {
      "startup": false,
      "wait_interval": 0
     }
    },
    "colab_type": "code",
    "id": "wMbda6-vqkeG"
   },
   "outputs": [],
   "source": [
    "# Licensed under the Apache License, Version 2.0 (the \"License\");\n",
    "# you may not use this file except in compliance with the License.\n",
    "# You may obtain a copy of the License at\n",
    "#\n",
    "# https://www.apache.org/licenses/LICENSE-2.0\n",
    "#\n",
    "# Unless required by applicable law or agreed to in writing, software\n",
    "# distributed under the License is distributed on an \"AS IS\" BASIS,\n",
    "# WITHOUT WARRANTIES OR CONDITIONS OF ANY KIND, either express or implied.\n",
    "# See the License for the specific language governing permissions and\n",
    "# limitations under the License."
   ]
  },
  {
   "cell_type": "markdown",
   "metadata": {
    "colab_type": "text",
    "id": "SwuyEwn-b0YH"
   },
   "source": [
    "# Guided ES Demo\n",
    "\n",
    "This is a fully self-contained notebook that reproduces the toy example in Fig.1 of the guided evolutionary strategies paper.\n",
    "\n",
    "The main code is in the 'Algorithms' section below.\n",
    "\n",
    "Contact: nirum@google.com\n",
    "\n",
    "Date: 6/22/18"
   ]
  },
  {
   "cell_type": "code",
   "execution_count": 2,
   "metadata": {
    "cellView": "both",
    "colab": {
     "autoexec": {
      "startup": false,
      "wait_interval": 0
     }
    },
    "colab_type": "code",
    "id": "w_OmAdfRPZoz",
    "slideshow": {
     "slide_type": "slide"
    }
   },
   "outputs": [
    {
     "name": "stdout",
     "output_type": "stream",
     "text": [
      "\n",
      "WARNING: The TensorFlow contrib module will not be included in TensorFlow 2.0.\n",
      "For more information, please see:\n",
      "  * https://github.com/tensorflow/community/blob/master/rfcs/20180907-contrib-sunset.md\n",
      "  * https://github.com/tensorflow/addons\n",
      "If you depend on functionality not listed there, please file an issue.\n",
      "\n"
     ]
    }
   ],
   "source": [
    "import numpy as np\n",
    "import matplotlib.pyplot as plt\n",
    "import tensorflow as tf\n",
    "import tensorflow_probability as tfp"
   ]
  },
  {
   "cell_type": "code",
   "execution_count": 3,
   "metadata": {},
   "outputs": [
    {
     "name": "stdout",
     "output_type": "stream",
     "text": [
      "tensorflow version: 1.13.1\n",
      "tensorflow_probability version: 0.6.0\n"
     ]
    }
   ],
   "source": [
    "print(f'tensorflow version: {tf.__version__}')\n",
    "print(f'tensorflow_probability version: {tfp.__version__}')"
   ]
  },
  {
   "cell_type": "markdown",
   "metadata": {
    "colab_type": "text",
    "id": "7Su4I_YWlGAb"
   },
   "source": [
    "## Helper functions"
   ]
  },
  {
   "cell_type": "markdown",
   "metadata": {
    "colab_type": "text",
    "id": "X-cRO-ncyB_u"
   },
   "source": [
    "### Antithetic sampler\n",
    "\n",
    "Creates custom getters for perturbing variables.\n",
    "\n",
    "These are used to evaluate f(x + epsilon), where epsilon is some perturbation applied to the parameters, x.\n",
    "\n",
    "This also stores the sampled noise (epsilon) in a dictionary, since we need to reuse the noise for the negative sample, when we want to compute f(x - epsilon). (note: this is where the name `antithetic` comes from)"
   ]
  },
  {
   "cell_type": "code",
   "execution_count": 4,
   "metadata": {
    "colab": {
     "autoexec": {
      "startup": false,
      "wait_interval": 0
     }
    },
    "colab_type": "code",
    "id": "iV_z02iDx5Xb"
   },
   "outputs": [],
   "source": [
    "class AntitheticSampler(object):\n",
    "  def __init__(self, distributions):\n",
    "    \"\"\"Antithetic perturbations.\n",
    "    \n",
    "    Generates samples eta, and two custom getters that return\n",
    "      (x + eta) and (x - eta)\n",
    "    for a variable x.\n",
    "    \n",
    "    This is used to evaluate a loss at perturbed parameter values, e.g.:\n",
    "    [f(x+eta), f(x-eta)]\n",
    "    \"\"\"\n",
    "    \n",
    "    # stores the sampled noise\n",
    "    self.perturbations = {}\n",
    "    \n",
    "    # store the distributions\n",
    "    self.distributions = distributions\n",
    "  \n",
    "  def pos_getter(self, getter, name, *args, **kwargs):\n",
    "    \"\"\"Custom getter for positive perturbation\"\"\"\n",
    "    \n",
    "    # get the variable\n",
    "    variable = getter(name, *args, **kwargs)\n",
    "    \n",
    "    # check if we have pulled this variable before\n",
    "    if name not in self.perturbations:\n",
    "    \n",
    "      # generate a noise sample and store it\n",
    "      self.perturbations[name] = self.distributions[name].sample()\n",
    "\n",
    "    # return the perturbed variable\n",
    "    return variable + tf.reshape(self.perturbations[name], variable.shape)\n",
    " \n",
    "  def neg_getter(self, getter, name, *args, **kwargs):\n",
    "    \"\"\"Custom getter for negative perturbation\"\"\"\n",
    "    \n",
    "    # get the variable\n",
    "    variable = getter(name, *args, **kwargs)\n",
    "    \n",
    "    # check if we have pulled this variable before\n",
    "    if name not in self.perturbations:\n",
    "    \n",
    "      # generate a noise sample and store it\n",
    "      self.perturbations[name] = self.sample(shape=variable.shape)\n",
    "\n",
    "    # return the perturbed variable\n",
    "    return variable - tf.reshape(self.perturbations[name], variable.shape)"
   ]
  },
  {
   "cell_type": "markdown",
   "metadata": {
    "colab_type": "text",
    "id": "bYheIglf2clB"
   },
   "source": [
    "### Noise distributions\n",
    "\n",
    "We draw perturbations of parameters from either a diagonal covariance (the standard evolutionary strategies algorithm), or from a diagonal plus low rank covariance (guided ES)."
   ]
  },
  {
   "cell_type": "code",
   "execution_count": 5,
   "metadata": {
    "colab": {
     "autoexec": {
      "startup": false,
      "wait_interval": 0
     }
    },
    "colab_type": "code",
    "id": "pLYwc0ol2bL9"
   },
   "outputs": [],
   "source": [
    "mvn_diag = tfp.distributions.MultivariateNormalDiag\n",
    "mvn_lowrank = tfp.distributions.MultivariateNormalDiagPlusLowRank"
   ]
  },
  {
   "cell_type": "markdown",
   "metadata": {
    "colab_type": "text",
    "id": "HKQinU4RT6md"
   },
   "source": [
    "## Algorithms"
   ]
  },
  {
   "cell_type": "markdown",
   "metadata": {
    "colab_type": "text",
    "id": "2NRbt7DHT8S1"
   },
   "source": [
    "### Gradient descent\n",
    "\n",
    "As a baseline, we will compare against running gradient descent directly on the biased gradients."
   ]
  },
  {
   "cell_type": "code",
   "execution_count": 6,
   "metadata": {
    "colab": {
     "autoexec": {
      "startup": false,
      "wait_interval": 0
     }
    },
    "colab_type": "code",
    "id": "CCqaG7bgT-Tc"
   },
   "outputs": [],
   "source": [
    "def gradient_descent(loss_fn, grads_and_vars):\n",
    "  return grads_and_vars"
   ]
  },
  {
   "cell_type": "markdown",
   "metadata": {
    "colab_type": "text",
    "id": "7oRZ6-lFlq3Q"
   },
   "source": [
    "### Evolutionary strategies\n",
    "\n",
    "To compute descent directions using evolutionary strategies, we will use the antithetic sampler defined above.\n",
    "\n",
    "This will let us perturb model parameters centered on the current iterate."
   ]
  },
  {
   "cell_type": "code",
   "execution_count": 7,
   "metadata": {
    "colab": {
     "autoexec": {
      "startup": false,
      "wait_interval": 0
     }
    },
    "colab_type": "code",
    "id": "LeIL5S017KLv"
   },
   "outputs": [],
   "source": [
    "def evostrat_update(loss_fn, dists, grads_and_vars, beta, sigma):\n",
    "  \"\"\"Function to compute the evolutionary strategies.\n",
    "  \n",
    "  See the guided ES paper for details on the method.\n",
    "  \n",
    "  Args:\n",
    "    loss_fn: function that builds the graph that computes the loss. loss_fn,\n",
    "      when called, returns a scalar loss tensor.\n",
    "    dists: dict mapping from variable names to distributions for perturbing\n",
    "      those variables.\n",
    "    grads_and_vars: list of (gradient, variable) tuples. The gradient and\n",
    "      variable are tensors of the same shape. The gradient may be biased (it\n",
    "      is not necessarily the gradient of the loss_fn).\n",
    "    beta: float, scale hyperparameter of the guided ES algorithm.\n",
    "    sigma: float, controls the overall std. dev. of the perturbation\n",
    "      distribution.\n",
    "     \n",
    "   Returns:\n",
    "    updates_and_vars: a list of (update, variable) tuples contaniing the\n",
    "      estimated descent direction (update) and variable for each variable to\n",
    "      optimize. (This list will be passed to a tf.train.Optimizer instance).\n",
    "   \"\"\"\n",
    "  \n",
    "  # build the antithetic sampler\n",
    "  anti = AntitheticSampler(dists)\n",
    "  \n",
    "  # evaluate the loss at different parameters\n",
    "  with tf.variable_scope('', custom_getter=anti.pos_getter):\n",
    "    y_pos = loss_fn()\n",
    "  \n",
    "  with tf.variable_scope('', custom_getter=anti.neg_getter):\n",
    "    y_neg = loss_fn()\n",
    "    \n",
    "  # use these losses to compute the evolutionary strategies update\n",
    "  c = beta / (2 * sigma ** 2)\n",
    "  updates_and_vars = [\n",
    "      (c * tf.reshape(anti.perturbations[v.op.name], v.shape) * (y_pos - y_neg), v)\n",
    "      for _, v in grads_and_vars]\n",
    "  \n",
    "  return updates_and_vars"
   ]
  },
  {
   "cell_type": "markdown",
   "metadata": {
    "colab_type": "text",
    "id": "JHkc2vsAUFMZ"
   },
   "source": [
    "### Vanilla ES\n",
    "\n",
    "Vanilla ES is the standard evolutionary strategies algorithm. It uses a diagonal covariance matrix for perturbing parameters."
   ]
  },
  {
   "cell_type": "code",
   "execution_count": 8,
   "metadata": {
    "colab": {
     "autoexec": {
      "startup": false,
      "wait_interval": 0
     }
    },
    "colab_type": "code",
    "id": "gTb30i9-UES6"
   },
   "outputs": [],
   "source": [
    "def vanilla_es(loss_fn, grads_and_vars, sigma=0.1, beta=1.0):\n",
    "  \n",
    "  def vardist(v):\n",
    "    n = v.shape[0]\n",
    "    scale_diag = (sigma / tf.sqrt(tf.cast(n, tf.float32))) * tf.ones(n)\n",
    "    return mvn_diag(scale_diag=scale_diag)\n",
    "  \n",
    "  # build distributions\n",
    "  dists = {v.op.name: vardist(v) for _, v in grads_and_vars}\n",
    "  \n",
    "  updates_and_vars = evostrat_update(loss_fn, dists, grads_and_vars, beta, sigma)\n",
    "  \n",
    "  return updates_and_vars"
   ]
  },
  {
   "cell_type": "markdown",
   "metadata": {
    "colab_type": "text",
    "id": "O0Hi-L1iY0jb"
   },
   "source": [
    "### Guided ES\n",
    "\n",
    "Guided ES is our proposed method. It uses a diagonal plus low-rank covariance matrix for drawing perturbations, where the low-rank subspace is spanned by the available gradient information."
   ]
  },
  {
   "cell_type": "code",
   "execution_count": 9,
   "metadata": {
    "colab": {
     "autoexec": {
      "startup": false,
      "wait_interval": 0
     }
    },
    "colab_type": "code",
    "id": "saQTW0-BY2Hj"
   },
   "outputs": [],
   "source": [
    "def guided_es(loss_fn, grads_and_vars, sigma=0.1, alpha=0.5, beta=1.0):\n",
    "  \n",
    "  def vardist(grad, variable):\n",
    "    \"\"\"Builds the sampling distribution for the given variable.\"\"\"\n",
    "    \n",
    "    n = tf.cast(variable.shape[0], tf.float32)\n",
    "    k = 1\n",
    "    \n",
    "    a = sigma * tf.sqrt(alpha / n)\n",
    "    c = sigma * tf.sqrt((1-alpha) / k)\n",
    "    b = tf.sqrt(a ** 2 + c ** 2) - a\n",
    "    \n",
    "    scale_diag = a * tf.ones(tf.cast(n, tf.int32))\n",
    "    perturb_diag = b * tf.ones(1,)\n",
    "    perturb_factor, _ = tf.qr(grad)\n",
    "    \n",
    "    return mvn_lowrank(scale_diag=scale_diag,\n",
    "                       scale_perturb_factor=perturb_factor,\n",
    "                       scale_perturb_diag=perturb_diag)\n",
    "  \n",
    "  dists = {v.op.name: vardist(g, v) for g, v in grads_and_vars}\n",
    "  \n",
    "  # antithetic getter\n",
    "  updates_and_vars = evostrat_update(loss_fn, dists, grads_and_vars, beta, sigma)\n",
    "  \n",
    "  return updates_and_vars"
   ]
  },
  {
   "cell_type": "markdown",
   "metadata": {
    "colab_type": "text",
    "id": "oTnAPygL6yg7"
   },
   "source": [
    "## Tasks"
   ]
  },
  {
   "cell_type": "markdown",
   "metadata": {
    "colab_type": "text",
    "id": "Wu3NR6Tk6zlh"
   },
   "source": [
    "### Perturbed quadratic\n",
    "\n",
    "This is a toy problem where we explicitly add bias and variance to the gradient"
   ]
  },
  {
   "cell_type": "code",
   "execution_count": 10,
   "metadata": {
    "colab": {
     "autoexec": {
      "startup": false,
      "wait_interval": 0
     }
    },
    "colab_type": "code",
    "id": "OyFvnj_O1HwT"
   },
   "outputs": [],
   "source": [
    "def generate_problem(n, m, seed=None):\n",
    "  rs = np.random.RandomState(seed=seed)\n",
    "  \n",
    "  # sample a random problem\n",
    "  A = rs.randn(m, n)\n",
    "  b = rs.randn(m, 1)\n",
    "  \n",
    "  grad_bias = rs.randn(n, 1)\n",
    "  \n",
    "  return A, b, grad_bias\n",
    "\n",
    "\n",
    "def perturbed_quadratic(n, m, problem_seed):\n",
    "  tf.reset_default_graph()\n",
    "  \n",
    "  # generate problem\n",
    "  A_np, b_np, bias_np = generate_problem(n, m, seed=problem_seed)\n",
    "  A = tf.convert_to_tensor(A_np, dtype=tf.float32)\n",
    "  b = tf.convert_to_tensor(b_np, dtype=tf.float32)\n",
    "  \n",
    "  # sample gradient bias and noise\n",
    "  grad_bias = 1.0 * tf.nn.l2_normalize(tf.convert_to_tensor(bias_np, dtype=tf.float32))\n",
    "  grad_noise = 1.5 * tf.nn.l2_normalize(tf.random_normal(shape=(n, 1)))\n",
    "    \n",
    "  # compute loss\n",
    "  def loss_fn():\n",
    "    with tf.variable_scope('perturbed_quadratic', reuse=tf.AUTO_REUSE):\n",
    "      x = tf.get_variable('x', shape=(n, 1), initializer=tf.zeros_initializer)\n",
    "      \n",
    "    resid = tf.matmul(A, x) - b\n",
    "    return 0.5*tf.norm(resid)**2 / float(m)\n",
    "    \n",
    "  # compute perturbed gradient\n",
    "  with tf.variable_scope('perturbed_quadratic', reuse=tf.AUTO_REUSE):\n",
    "    x = tf.get_variable('x', shape=(n, 1), initializer=tf.zeros_initializer)\n",
    "    \n",
    "  err = tf.matmul(tf.transpose(A), tf.matmul(A, x) - b) / float(m)\n",
    "  grad = err + (grad_bias + grad_noise) * tf.norm(err)\n",
    "  grads_and_vars = [(grad, x)]\n",
    "    \n",
    "  return loss_fn, grads_and_vars"
   ]
  },
  {
   "cell_type": "markdown",
   "metadata": {
    "colab_type": "text",
    "id": "KnIJv_nhYI8p"
   },
   "source": [
    "## Demo"
   ]
  },
  {
   "cell_type": "markdown",
   "metadata": {
    "colab_type": "text",
    "id": "JSAEHU44YKWx"
   },
   "source": [
    "### Vanilla ES\n",
    "\n",
    "First, we run minimize the problem using vanilla evolutionary strategies."
   ]
  },
  {
   "cell_type": "code",
   "execution_count": 11,
   "metadata": {
    "colab": {
     "autoexec": {
      "startup": false,
      "wait_interval": 0
     }
    },
    "colab_type": "code",
    "id": "ZstfesU_1UQ0"
   },
   "outputs": [
    {
     "name": "stdout",
     "output_type": "stream",
     "text": [
      "WARNING:tensorflow:From /Users/nirum/anaconda3/lib/python3.7/site-packages/tensorflow/python/framework/op_def_library.py:263: colocate_with (from tensorflow.python.framework.ops) is deprecated and will be removed in a future version.\n",
      "Instructions for updating:\n",
      "Colocations handled automatically by placer.\n"
     ]
    }
   ],
   "source": [
    "tf.reset_default_graph()\n",
    "loss_fn, gav = perturbed_quadratic(1000, 2000, 2)\n",
    "\n",
    "updates = vanilla_es(loss_fn, gav, sigma=0.1, beta=1.0)\n",
    "\n",
    "opt = tf.train.GradientDescentOptimizer(0.2)\n",
    "train_op = opt.apply_gradients(updates)\n",
    "\n",
    "loss = loss_fn()\n",
    "\n",
    "sess = tf.InteractiveSession()\n",
    "sess.run(tf.global_variables_initializer())"
   ]
  },
  {
   "cell_type": "code",
   "execution_count": 12,
   "metadata": {
    "colab": {
     "autoexec": {
      "startup": false,
      "wait_interval": 0
     },
     "base_uri": "https://localhost:8080/",
     "height": 17
    },
    "colab_type": "code",
    "executionInfo": {
     "elapsed": 14006,
     "status": "ok",
     "timestamp": 1529723926412,
     "user": {
      "displayName": "Niru Maheswaranathan",
      "photoUrl": "//lh6.googleusercontent.com/-BIjYFsOMLzc/AAAAAAAAAAI/AAAAAAAAADM/YvP5qhVshG8/s50-c-k-no/photo.jpg",
      "userId": "101494304217710169832"
     },
     "user_tz": 420
    },
    "id": "c-IQL75AVvzG",
    "outputId": "bd759007-423b-4cf7-e1b6-3b095a0b7d64"
   },
   "outputs": [],
   "source": [
    "# train\n",
    "fobj = []\n",
    "for k in range(10000):\n",
    "  f, _ = sess.run([loss, train_op])\n",
    "  fobj.append(f)\n",
    "  \n",
    "# store results for plotting\n",
    "ves = np.array(fobj).copy()\n",
    "\n",
    "sess.close()"
   ]
  },
  {
   "cell_type": "markdown",
   "metadata": {
    "colab_type": "text",
    "id": "foD-xrVrYNLw"
   },
   "source": [
    "### Gradient descent\n",
    "\n",
    "Our next baseline is gradient descent, applied directly to the biased gradients."
   ]
  },
  {
   "cell_type": "code",
   "execution_count": 13,
   "metadata": {
    "colab": {
     "autoexec": {
      "startup": false,
      "wait_interval": 0
     },
     "base_uri": "https://localhost:8080/",
     "height": 73
    },
    "colab_type": "code",
    "executionInfo": {
     "elapsed": 466,
     "status": "ok",
     "timestamp": 1529723992728,
     "user": {
      "displayName": "Niru Maheswaranathan",
      "photoUrl": "//lh6.googleusercontent.com/-BIjYFsOMLzc/AAAAAAAAAAI/AAAAAAAAADM/YvP5qhVshG8/s50-c-k-no/photo.jpg",
      "userId": "101494304217710169832"
     },
     "user_tz": 420
    },
    "id": "HECrHTN5YS04",
    "outputId": "b593e567-5396-44d7-d84e-51f3b2afc2a0"
   },
   "outputs": [],
   "source": [
    "tf.reset_default_graph()\n",
    "loss_fn, gav = perturbed_quadratic(1000, 2000, 2)\n",
    "\n",
    "updates = gradient_descent(loss_fn, gav)\n",
    "\n",
    "opt = tf.train.GradientDescentOptimizer(5e-3)\n",
    "train_op = opt.apply_gradients(updates)\n",
    "\n",
    "loss = loss_fn()\n",
    "\n",
    "sess = tf.InteractiveSession()\n",
    "sess.run(tf.global_variables_initializer())"
   ]
  },
  {
   "cell_type": "code",
   "execution_count": 14,
   "metadata": {
    "colab": {
     "autoexec": {
      "startup": false,
      "wait_interval": 0
     },
     "base_uri": "https://localhost:8080/",
     "height": 17
    },
    "colab_type": "code",
    "executionInfo": {
     "elapsed": 15736,
     "status": "ok",
     "timestamp": 1529724009245,
     "user": {
      "displayName": "Niru Maheswaranathan",
      "photoUrl": "//lh6.googleusercontent.com/-BIjYFsOMLzc/AAAAAAAAAAI/AAAAAAAAADM/YvP5qhVshG8/s50-c-k-no/photo.jpg",
      "userId": "101494304217710169832"
     },
     "user_tz": 420
    },
    "id": "w3mJUgN7YS1P",
    "outputId": "ec5f0508-1499-4611-e5e7-90fc83d6d8e0"
   },
   "outputs": [],
   "source": [
    "# train\n",
    "fobj = []\n",
    "for k in range(10000):\n",
    "  f, _ = sess.run([loss, train_op])\n",
    "  fobj.append(f)\n",
    "\n",
    "# store results for plotting\n",
    "gd = np.array(fobj).copy()\n",
    "\n",
    "sess.close()"
   ]
  },
  {
   "cell_type": "markdown",
   "metadata": {
    "colab_type": "text",
    "id": "qDhl6pjMZrCM"
   },
   "source": [
    "### Guided ES\n",
    "\n",
    "Finally, we will run the same problem using the guided evolutionary strategies method."
   ]
  },
  {
   "cell_type": "code",
   "execution_count": 15,
   "metadata": {
    "colab": {
     "autoexec": {
      "startup": false,
      "wait_interval": 0
     },
     "base_uri": "https://localhost:8080/",
     "height": 73
    },
    "colab_type": "code",
    "executionInfo": {
     "elapsed": 792,
     "status": "ok",
     "timestamp": 1529723943588,
     "user": {
      "displayName": "Niru Maheswaranathan",
      "photoUrl": "//lh6.googleusercontent.com/-BIjYFsOMLzc/AAAAAAAAAAI/AAAAAAAAADM/YvP5qhVshG8/s50-c-k-no/photo.jpg",
      "userId": "101494304217710169832"
     },
     "user_tz": 420
    },
    "id": "6gdZXM1vZuP_",
    "outputId": "c60112aa-f659-4929-ef33-d312eb3c93f9"
   },
   "outputs": [],
   "source": [
    "tf.reset_default_graph()\n",
    "loss_fn, gav = perturbed_quadratic(1000, 2000, 2)\n",
    "\n",
    "updates = guided_es(loss_fn, gav, sigma=0.1, alpha=0.5, beta=2.0)\n",
    "\n",
    "opt = tf.train.GradientDescentOptimizer(0.2)\n",
    "train_op = opt.apply_gradients(updates)\n",
    "loss = loss_fn()\n",
    "\n",
    "sess = tf.InteractiveSession()\n",
    "sess.run(tf.global_variables_initializer())"
   ]
  },
  {
   "cell_type": "code",
   "execution_count": 16,
   "metadata": {
    "colab": {
     "autoexec": {
      "startup": false,
      "wait_interval": 0
     },
     "base_uri": "https://localhost:8080/",
     "height": 17
    },
    "colab_type": "code",
    "executionInfo": {
     "elapsed": 22555,
     "status": "ok",
     "timestamp": 1529723966176,
     "user": {
      "displayName": "Niru Maheswaranathan",
      "photoUrl": "//lh6.googleusercontent.com/-BIjYFsOMLzc/AAAAAAAAAAI/AAAAAAAAADM/YvP5qhVshG8/s50-c-k-no/photo.jpg",
      "userId": "101494304217710169832"
     },
     "user_tz": 420
    },
    "id": "GglO7KDIZuQJ",
    "outputId": "156ffa99-bc23-4b42-e502-bc253afec563"
   },
   "outputs": [],
   "source": [
    "# train\n",
    "fobj = []\n",
    "for k in range(10000):\n",
    "  f, _ = sess.run([loss, train_op])\n",
    "  fobj.append(f)\n",
    "  \n",
    "# store results for plotting\n",
    "ges = np.array(fobj).copy()\n",
    "\n",
    "sess.close()"
   ]
  },
  {
   "cell_type": "markdown",
   "metadata": {
    "colab_type": "text",
    "id": "qEyLWBorYbe6"
   },
   "source": [
    "### Plots"
   ]
  },
  {
   "cell_type": "code",
   "execution_count": 17,
   "metadata": {
    "colab": {
     "autoexec": {
      "startup": false,
      "wait_interval": 0
     },
     "base_uri": "https://localhost:8080/",
     "height": 91
    },
    "colab_type": "code",
    "executionInfo": {
     "elapsed": 1400,
     "status": "ok",
     "timestamp": 1529723967604,
     "user": {
      "displayName": "Niru Maheswaranathan",
      "photoUrl": "//lh6.googleusercontent.com/-BIjYFsOMLzc/AAAAAAAAAAI/AAAAAAAAADM/YvP5qhVshG8/s50-c-k-no/photo.jpg",
      "userId": "101494304217710169832"
     },
     "user_tz": 420
    },
    "id": "QrbAs1xbYPO2",
    "outputId": "b4790754-c476-4ce6-b7df-2dcbfcbbc2fc"
   },
   "outputs": [],
   "source": [
    "A, b, _ = generate_problem(1000, 2000, seed=2)\n",
    "xstar = np.linalg.lstsq(A, b, rcond=None)[0]\n",
    "f_opt = (0.5/2000) * np.linalg.norm(np.dot(A, xstar) - b) ** 2"
   ]
  },
  {
   "cell_type": "markdown",
   "metadata": {
    "colab_type": "text",
    "id": "DWJRegoBqHB_"
   },
   "source": [
    "As we see in the plot below, Guided ES combines the benefits of gradient descent (quick initial descent) and vanilla evolutionary strategies (converges on the true solution)."
   ]
  },
  {
   "cell_type": "code",
   "execution_count": 18,
   "metadata": {
    "colab": {
     "autoexec": {
      "startup": false,
      "wait_interval": 0
     },
     "base_uri": "https://localhost:8080/",
     "height": 411
    },
    "colab_type": "code",
    "executionInfo": {
     "elapsed": 529,
     "status": "ok",
     "timestamp": 1529723977894,
     "user": {
      "displayName": "Niru Maheswaranathan",
      "photoUrl": "//lh6.googleusercontent.com/-BIjYFsOMLzc/AAAAAAAAAAI/AAAAAAAAADM/YvP5qhVshG8/s50-c-k-no/photo.jpg",
      "userId": "101494304217710169832"
     },
     "user_tz": 420
    },
    "id": "9cax5P2RWIIn",
    "outputId": "e8a5b36e-a1b6-49dc-9f77-b7c7c3915fd8"
   },
   "outputs": [
    {
     "data": {
      "image/png": "[encoded data removed]",
      "text/plain": [
       "<Figure size 576x432 with 1 Axes>"
      ]
     },
     "metadata": {
      "needs_background": "light"
     },
     "output_type": "display_data"
    }
   ],
   "source": [
    "COLORS = {'ges': '#7570b3', 'ves': '#1b9e77', 'sgdm': '#d95f02'}\n",
    "plt.figure(figsize=(8, 6))\n",
    "plt.plot(ves - f_opt, color=COLORS['ves'], label='Vanilla ES')\n",
    "plt.plot(gd - f_opt, color=COLORS['sgdm'], label='Grad. Descent')\n",
    "plt.plot(ges - f_opt, color=COLORS['ges'], label='Guided ES')\n",
    "plt.legend(fontsize=16, loc=0)\n",
    "plt.xlabel('Iteration', fontsize=16)\n",
    "plt.ylabel('Loss', fontsize=16)\n",
    "plt.title('Demo of Guided Evolutionary Strategies', fontsize=16);"
   ]
  },
  {
   "cell_type": "code",
   "execution_count": null,
   "metadata": {},
   "outputs": [],
   "source": []
  }
 ],
 "metadata": {
  "colab": {
   "collapsed_sections": [
    "_NliWKN6rBM2"
   ],
   "default_view": {},
   "name": "Guided Evolutionary Strategies Demo.ipynb",
   "provenance": [],
   "version": "0.3.2",
   "views": {}
  },
  "kernelspec": {
   "display_name": "Python 3",
   "language": "python",
   "name": "python3"
  },
  "language_info": {
   "codemirror_mode": {
    "name": "ipython",
    "version": 3
   },
   "file_extension": ".py",
   "mimetype": "text/x-python",
   "name": "python",
   "nbconvert_exporter": "python",
   "pygments_lexer": "ipython3",
   "version": "3.7.3"
  }
 },
 "nbformat": 4,
 "nbformat_minor": 1
}
